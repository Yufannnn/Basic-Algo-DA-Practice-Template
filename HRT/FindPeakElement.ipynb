{
 "cells": [
  {
   "cell_type": "markdown",
   "metadata": {},
   "source": [
    "# Find Peak Element\n",
    "\n",
    "**Solution Overview**:\n",
    "\n",
    "The key insight behind this solution is that if an element `nums[mid]` is greater than `nums[mid + 1]`, then a peak element must exist to the left of `mid` (including `mid` itself) because elements are decreasing after `mid`. Conversely, if `nums[mid]` is less than `nums[mid + 1]`, a peak element must exist to the right of `mid` because the elements are increasing, and since `nums[n]` is considered `-∞`, the sequence must eventually decrease.\n",
    "\n",
    "**Algorithm Steps**:\n",
    "\n",
    "1. **Initialization**:\n",
    "   - Set two pointers, `left` and `right`, to the start and end of the array, respectively.\n",
    "\n",
    "2. **Binary Search**:\n",
    "   - Perform a binary search while `left < right`. The condition ensures that the search space is reduced at each step, moving towards finding a peak element.\n",
    "   - Calculate the mid-point `mid` as `(left + right) // 2`.\n",
    "\n",
    "3. **Mid Element Comparison**:\n",
    "   - If `nums[mid] > nums[mid + 1]`, it implies that a peak element exists on the left side of `mid` (or at `mid`), so update `right` to `mid`.\n",
    "   - Otherwise, if `nums[mid] <= nums[mid + 1]`, it implies that a peak element exists on the right side of `mid`, so update `left` to `mid + 1`.\n",
    "\n",
    "4. **Finding the Peak**:\n",
    "   - The loop continues until `left` equals `right`, at which point `left` (or `right`, since they are equal) is the index of a peak element. The algorithm guarantees that `left` will always point towards a peak element due to the way the search space is reduced.\n",
    "\n",
    "5. **Return the Peak Element Index**:\n",
    "   - Return `left` as the index of the peak element.\n",
    "\n",
    "**Complexity Analysis**:\n",
    "\n",
    "- **Time Complexity**: O(log n), where `n` is the number of elements in the array. The algorithm's time complexity comes from the binary search, which halves the search space at each step.\n",
    "- **Space Complexity**: O(1), as the solution uses only a constant amount of extra space for variables, regardless of the input size.\n",
    "\n",
    "**Example Walkthrough**:\n",
    "\n",
    "Consider `nums = [1, 2, 3, 1]`. Initially, `left = 0` and `right = 3`.\n",
    "\n",
    "- In the first iteration, `mid = 1`. Since `nums[1] < nums[2]`, the search space is updated to `[2, 3]`.\n",
    "- In the second iteration, `mid = 2`. Since `nums[2] > nums[3]`, the search space becomes `[2, 2]`.\n",
    "- The loop exits because `left == right`, indicating that index `2` is the peak element.\n",
    "\n",
    "**Conclusion**:\n",
    "\n",
    "This binary search approach efficiently finds a peak element in a log-linear time complexity, making it an optimal solution for large arrays. The solution cleverly utilizes the properties of a peak element to reduce the search space and guarantee finding a peak."
   ]
  },
  {
   "cell_type": "code",
   "execution_count": null,
   "metadata": {},
   "outputs": [],
   "source": [
    "from typing import List\n",
    "\n",
    "class Solution:\n",
    "    def findPeakElement(self, nums: List[int]) -> int:\n",
    "        left, right = 0, len(nums) - 1\n",
    "        \n",
    "        while left < right:\n",
    "            mid = (left + right) // 2\n",
    "            if nums[mid] > nums[mid + 1]:\n",
    "                # If mid element is greater than the next element, then the peak lies on the left side of mid (including mid)\n",
    "                right = mid\n",
    "            else:\n",
    "                # If mid element is less than the next element, then the peak lies on the right side of mid\n",
    "                left = mid + 1\n",
    "                \n",
    "        # When left == right, we have found the peak element\n",
    "        return left\n"
   ]
  }
 ],
 "metadata": {
  "language_info": {
   "name": "python"
  }
 },
 "nbformat": 4,
 "nbformat_minor": 2
}
