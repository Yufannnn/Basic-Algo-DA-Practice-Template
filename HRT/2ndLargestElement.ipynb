{
 "cells": [
  {
   "cell_type": "markdown",
   "metadata": {},
   "source": [
    "To find the second largest number in an array, we can use a tournament-style algorithm. We pair up elements and compare them, keeping track of winners and the losers for each round. The maximum number is the final winner, but importantly, we also track all opponents it faced. Since the largest number has to defeat the second largest number at some point in the tournament, the second largest is the biggest loser to the largest number.\n",
    "\n",
    "In terms of efficiency, each element participates in at most O(log n) comparisons - once per round - and since there are n elements, we have an initial n comparisons, plus O(log n) comparisons to find the largest among the losers. This gives us a total of n + O(log n) comparisons, which is very efficient."
   ]
  },
  {
   "cell_type": "code",
   "execution_count": 1,
   "metadata": {},
   "outputs": [
    {
     "name": "stdout",
     "output_type": "stream",
     "text": [
      "The second largest number is: 8\n"
     ]
    }
   ],
   "source": [
    "def find_second_largest(numbers):\n",
    "    # This dictionary will map the winner to the list of numbers it has defeated.\n",
    "    defeated = {num: [] for num in numbers}\n",
    "\n",
    "    # The tournament\n",
    "    while len(numbers) > 1:\n",
    "        next_round = []\n",
    "        for i in range(0, len(numbers), 2):\n",
    "            if i == len(numbers) - 1:\n",
    "                next_round.append(numbers[i])\n",
    "            else:\n",
    "                winner = max(numbers[i], numbers[i + 1])\n",
    "                loser = min(numbers[i], numbers[i + 1])\n",
    "                defeated[winner].append(loser)\n",
    "                next_round.append(winner)\n",
    "        numbers = next_round\n",
    "\n",
    "    # The champion is the last number remaining\n",
    "    champion = numbers[0]\n",
    "    # The second largest is the largest number the champion has defeated\n",
    "    second_largest = max(defeated[champion])\n",
    "\n",
    "    return second_largest\n",
    "\n",
    "# Example usage:\n",
    "array = [3, 1, 2, 4, 5, 9, 7, 8, 6]\n",
    "print(\"The second largest number is:\", find_second_largest(array))"
   ]
  }
 ],
 "metadata": {
  "kernelspec": {
   "display_name": "Python 3",
   "language": "python",
   "name": "python3"
  },
  "language_info": {
   "codemirror_mode": {
    "name": "ipython",
    "version": 3
   },
   "file_extension": ".py",
   "mimetype": "text/x-python",
   "name": "python",
   "nbconvert_exporter": "python",
   "pygments_lexer": "ipython3",
   "version": "3.11.4"
  }
 },
 "nbformat": 4,
 "nbformat_minor": 2
}
