{
 "cells": [
  {
   "cell_type": "markdown",
   "metadata": {},
   "source": [
    "### 1. Sorting\n",
    "\n",
    "**Approach**: Sort the entire sequence and then directly select the kth largest element.\n",
    "\n",
    "- **Time Complexity**: O(n log n) due to the sorting process. The selection itself is O(1) after sorting.\n",
    "- **Space Complexity**: Depends on the sorting algorithm. In-place sorts like heapsort use O(1) extra space, while mergesort uses O(n).\n",
    "\n",
    "This method is straightforward but not the most efficient if the only goal is to find the kth largest element.\n",
    "\n",
    "### 2. Max-Heap Construction\n",
    "\n",
    "**Approach**: Build a max-heap from the n elements, then remove the largest element k-1 times to get to the kth largest.\n",
    "\n",
    "- **Heap Construction Time Complexity**: O(n) for building the heap.\n",
    "- **Removing k Elements Time Complexity**: O(k log n), as each removal requires reheapifying the heap, which costs O(log n).\n",
    "- **Overall Time Complexity**: O(n + k log n), combining heap construction and element removal.\n",
    "- **Space Complexity**: O(n) for storing the heap.\n",
    "\n",
    "This method improves upon sorting when k is small compared to n but becomes less efficient for larger values of k.\n",
    "\n",
    "### 3. Quick Select\n",
    "\n",
    "**Approach**: Use the Quick Select algorithm, which is based on the partitioning logic of QuickSort. The array is partitioned around a pivot, and then the algorithm recursively processes either the left or the right partition, depending on where the kth largest element lies.\n",
    "\n",
    "- **Average Time Complexity**: O(n), as the partitioning reduces the size of the problem by approximately half on average at each step.\n",
    "- **Worst-case Time Complexity**: O(n^2), which happens when the pivot selection is poor (e.g., always picking the smallest or largest element as the pivot).\n",
    "- **Deterministic Version**: The \"Median of Medians\" algorithm can guarantee O(n) time complexity by carefully choosing a good pivot.\n",
    "- **Space Complexity**: O(log n) due to recursive stack space in the average case, but can be reduced to O(1) with tail recursion optimization.\n",
    "\n",
    "Quick Select is generally the preferred approach for this problem due to its efficiency and linear average time complexity. It's particularly effective because it doesn't require sorting the entire array but instead focuses on finding the specific kth largest element."
   ]
  },
  {
   "cell_type": "code",
   "execution_count": 1,
   "metadata": {},
   "outputs": [
    {
     "name": "stdout",
     "output_type": "stream",
     "text": [
      "The 2th largest element is 5\n"
     ]
    }
   ],
   "source": [
    "import random\n",
    "\n",
    "def quick_select(arr, k):\n",
    "    \"\"\"\n",
    "    Find the kth largest element in an unsorted array.\n",
    "    Note: this is the kth largest element in sorted order, not the kth distinct element.\n",
    "    \"\"\"\n",
    "    def partition(left, right, pivot_index):\n",
    "        pivot_value = arr[pivot_index]\n",
    "        # Move pivot to the end\n",
    "        arr[pivot_index], arr[right] = arr[right], arr[pivot_index]\n",
    "        store_index = left\n",
    "        for i in range(left, right):\n",
    "            if arr[i] < pivot_value:\n",
    "                arr[i], arr[store_index] = arr[store_index], arr[i]\n",
    "                store_index += 1\n",
    "        # Move pivot to its final place\n",
    "        arr[right], arr[store_index] = arr[store_index], arr[right]\n",
    "        return store_index\n",
    "    \n",
    "    def select(left, right, k_smallest):\n",
    "        \"\"\"\n",
    "        Returns the k-th smallest element of arr within left..right.\n",
    "        \"\"\"\n",
    "        if left == right:  # If the list contains only one element,\n",
    "            return arr[left]  # return that element\n",
    "        # Select a random pivot_index between \n",
    "        pivot_index = random.randint(left, right)\n",
    "        # Find the pivot position in a sorted list\n",
    "        pivot_index = partition(left, right, pivot_index)\n",
    "        # The pivot is in its final sorted position\n",
    "        if k_smallest == pivot_index:\n",
    "            return arr[k_smallest]\n",
    "        elif k_smallest < pivot_index:\n",
    "            return select(left, pivot_index - 1, k_smallest)\n",
    "        else:\n",
    "            return select(pivot_index + 1, right, k_smallest)\n",
    "\n",
    "    # kth largest is (n - k)th smallest\n",
    "    return select(0, len(arr) - 1, len(arr) - k)\n",
    "\n",
    "# Example usage\n",
    "arr = [3, 2, 1, 5, 6, 4]\n",
    "k = 2\n",
    "print(f\"The {k}th largest element is {quick_select(arr, k)}\")\n"
   ]
  }
 ],
 "metadata": {
  "kernelspec": {
   "display_name": "Python 3",
   "language": "python",
   "name": "python3"
  },
  "language_info": {
   "codemirror_mode": {
    "name": "ipython",
    "version": 3
   },
   "file_extension": ".py",
   "mimetype": "text/x-python",
   "name": "python",
   "nbconvert_exporter": "python",
   "pygments_lexer": "ipython3",
   "version": "3.11.4"
  }
 },
 "nbformat": 4,
 "nbformat_minor": 2
}
