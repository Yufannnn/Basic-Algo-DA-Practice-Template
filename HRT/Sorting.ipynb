{
 "cells": [
  {
   "cell_type": "markdown",
   "metadata": {},
   "source": [
    "### 1. Bubble Sort\n",
    "- **Best-case Time Complexity**: O(n) when the array is already sorted.\n",
    "- **Average and Worst-case Time Complexity**: O(n^2) due to nested iterations over the array for swapping adjacent elements.\n",
    "- **Space Complexity**: O(1) as it's an in-place sorting algorithm.\n",
    "- **Stability**: Stable."
   ]
  },
  {
   "cell_type": "code",
   "execution_count": 13,
   "metadata": {},
   "outputs": [],
   "source": [
    "def bubble_sort(arr):\n",
    "    n = len(arr)\n",
    "    for i in range(n):\n",
    "        for j in range(0, n-i-1):\n",
    "            if arr[j] > arr[j+1]:\n",
    "                arr[j], arr[j+1] = arr[j+1], arr[j]\n",
    "    return arr"
   ]
  },
  {
   "cell_type": "markdown",
   "metadata": {},
   "source": [
    "### 2. Selection Sort\n",
    "- **Best, Average, and Worst-case Time Complexity**: O(n^2) because it iteratively selects the minimum element and places it at the beginning.\n",
    "- **Space Complexity**: O(1) as it's an in-place sorting algorithm.\n",
    "- **Stability**: Generally unstable but can be made stable with slight modifications."
   ]
  },
  {
   "cell_type": "code",
   "execution_count": 14,
   "metadata": {},
   "outputs": [],
   "source": [
    "def selection_sort(arr):\n",
    "    n = len(arr)\n",
    "    for i in range(n):\n",
    "        min_idx = i\n",
    "        for j in range(i+1, n):\n",
    "            if arr[j] < arr[min_idx]:\n",
    "                min_idx = j\n",
    "        arr[i], arr[min_idx] = arr[min_idx], arr[i]\n",
    "    return arr"
   ]
  },
  {
   "cell_type": "markdown",
   "metadata": {},
   "source": [
    "### 3. Insertion Sort\n",
    "- **Best-case Time Complexity**: O(n) when the array is already sorted.\n",
    "- **Average and Worst-case Time Complexity**: O(n^2) as it builds the final sorted array one item at a time.\n",
    "- **Space Complexity**: O(1) as it's an in-place sorting algorithm.\n",
    "- **Stability**: Stable."
   ]
  },
  {
   "cell_type": "code",
   "execution_count": 15,
   "metadata": {},
   "outputs": [],
   "source": [
    "def insertion_sort(arr):\n",
    "    n = len(arr)\n",
    "    for i in range(1, n):\n",
    "        key = arr[i]\n",
    "        j = i - 1\n",
    "        while j >= 0 and key < arr[j]:\n",
    "            arr[j+1] = arr[j]\n",
    "            j -= 1\n",
    "        arr[j+1] = key\n",
    "    return arr"
   ]
  },
  {
   "cell_type": "markdown",
   "metadata": {},
   "source": [
    "### 4. Merge Sort\n",
    "- **Best, Average, and Worst-case Time Complexity**: O(n log n) as it divides the array into halves and merges them.\n",
    "- **Space Complexity**: O(n) because it requires additional space proportional to the size of the input array.\n",
    "- **Stability**: Stable."
   ]
  },
  {
   "cell_type": "code",
   "execution_count": 16,
   "metadata": {},
   "outputs": [],
   "source": [
    "def merge_sort(arr):\n",
    "    if len(arr) > 1:\n",
    "        mid = len(arr) // 2\n",
    "        L = arr[:mid]\n",
    "        R = arr[mid:]\n",
    "        merge_sort(L)\n",
    "        merge_sort(R)\n",
    "        i = j = k = 0\n",
    "        while i < len(L) and j < len(R):\n",
    "            if L[i] < R[j]:\n",
    "                arr[k] = L[i]\n",
    "                i += 1\n",
    "            else:\n",
    "                arr[k] = R[j]\n",
    "                j += 1\n",
    "            k += 1\n",
    "        while i < len(L):\n",
    "            arr[k] = L[i]\n",
    "            i += 1\n",
    "            k += 1\n",
    "        while j < len(R):\n",
    "            arr[k] = R[j]\n",
    "            j += 1\n",
    "            k += 1\n",
    "    return arr"
   ]
  },
  {
   "cell_type": "markdown",
   "metadata": {},
   "source": [
    "### 5. Quick Sort\n",
    "- **Best and Average-case Time Complexity**: O(n log n) due to the divide-and-conquer approach.\n",
    "- **Worst-case Time Complexity**: O(n^2) when the pivot selection is poor (e.g., selecting the smallest or largest element as a pivot).\n",
    "- **Space Complexity**: O(log n) for the stack space due to recursion.\n",
    "- **Stability**: Unstable."
   ]
  },
  {
   "cell_type": "code",
   "execution_count": 17,
   "metadata": {},
   "outputs": [],
   "source": [
    "def partition(arr, low, high):\n",
    "    i = low - 1\n",
    "    pivot = arr[high]\n",
    "    for j in range(low, high):\n",
    "        if arr[j] < pivot:\n",
    "            i += 1\n",
    "            arr[i], arr[j] = arr[j], arr[i]\n",
    "    arr[i+1], arr[high] = arr[high], arr[i+1]\n",
    "    return i+1\n",
    "\n",
    "def quick_sort(arr, low, high):\n",
    "    if low < high:\n",
    "        pi = partition(arr, low, high)\n",
    "        quick_sort(arr, low, pi-1)\n",
    "        quick_sort(arr, pi+1, high)\n",
    "    return arr"
   ]
  },
  {
   "cell_type": "markdown",
   "metadata": {},
   "source": [
    "### 6. Heap Sort\n",
    "- **Best, Average, and Worst-case Time Complexity**: O(n log n) as it builds a heap and then sorts the array.\n",
    "- **Space Complexity**: O(1) as it's an in-place sorting algorithm.\n",
    "- **Stability**: Unstable."
   ]
  },
  {
   "cell_type": "code",
   "execution_count": 18,
   "metadata": {},
   "outputs": [],
   "source": [
    "def heapify(arr, n, i):\n",
    "    largest = i\n",
    "    l = 2 * i + 1\n",
    "    r = 2 * i + 2\n",
    "    if l < n and arr[l] > arr[largest]:\n",
    "        largest = l\n",
    "    if r < n and arr[r] > arr[largest]:\n",
    "        largest = r\n",
    "    if largest != i:\n",
    "        arr[i], arr[largest] = arr[largest], arr[i]\n",
    "        heapify(arr, n, largest)\n",
    "\n",
    "def heap_sort(arr):\n",
    "    n = len(arr)\n",
    "    for i in range(n//2-1, -1, -1):\n",
    "        heapify(arr, n, i)\n",
    "    for i in range(n-1, 0, -1):\n",
    "        arr[i], arr[0] = arr[0], arr[i]\n",
    "        heapify(arr, i, 0)\n",
    "    return arr"
   ]
  },
  {
   "cell_type": "markdown",
   "metadata": {},
   "source": [
    "### 7. Counting Sort\n",
    "- **Best, Average, and Worst-case Time Complexity**: O(n + k) where n is the number of elements and k is the range of the input.\n",
    "- **Space Complexity**: O(k) for the counting array.\n",
    "- **Stability**: Stable."
   ]
  },
  {
   "cell_type": "code",
   "execution_count": null,
   "metadata": {},
   "outputs": [],
   "source": [
    "def counting_sort(arr):\n",
    "    n = len(arr)\n",
    "    output = [0] * n\n",
    "    count = [0] * 10\n",
    "    for i in range(n):\n",
    "        count[arr[i]] += 1\n",
    "    for i in range(1, 10):\n",
    "        count[i] += count[i-1]\n",
    "    i = n - 1\n",
    "    while i >= 0:\n",
    "        output[count[arr[i]]-1] = arr[i]\n",
    "        count[arr[i]] -= 1\n",
    "        i -= 1\n",
    "    for i in range(n):\n",
    "        arr[i] = output[i]\n",
    "    return arr"
   ]
  },
  {
   "cell_type": "markdown",
   "metadata": {},
   "source": [
    "### 8. Radix Sort\n",
    "- **Best, Average, and Worst-case Time Complexity**: O(nk) where n is the number of elements and k is the number of digits in the maximum number.\n",
    "- **Space Complexity**: O(n + k) due to the use of counting sort.\n",
    "- **Stability**: Stable."
   ]
  },
  {
   "cell_type": "code",
   "execution_count": null,
   "metadata": {},
   "outputs": [],
   "source": [
    "def radix_sort(arr):\n",
    "    max1 = max(arr)\n",
    "    exp = 1\n",
    "    while max1 // exp > 0:\n",
    "        counting_sort(arr)\n",
    "        exp *= 10\n",
    "    return arr"
   ]
  },
  {
   "cell_type": "markdown",
   "metadata": {},
   "source": [
    "### 9. Bucket Sort\n",
    "- **Best and Average-case Time Complexity**: O(n + k) under the assumption that the data is uniformly distributed.\n",
    "- **Worst-case Time Complexity**: O(n^2) when all elements are placed into a single bucket.\n",
    "- **Space Complexity**: O(n) as it requires space for buckets.\n",
    "- **Stability**: Stable."
   ]
  },
  {
   "cell_type": "code",
   "execution_count": null,
   "metadata": {},
   "outputs": [],
   "source": [
    "def bucket_sort(arr):\n",
    "    n = len(arr)\n",
    "    max1 = max(arr)\n",
    "    min1 = min(arr)\n",
    "    range1 = (max1 - min1) / n\n",
    "    buckets = [[] for _ in range(n)]\n",
    "    for i in range(n):\n",
    "        index = int((arr[i] - min1) / range1)\n",
    "        if index != n:\n",
    "            buckets[index].append(arr[i])\n",
    "        else:\n",
    "            buckets[n-1].append(arr[i])\n",
    "    for i in range(n):\n",
    "        insertion_sort(buckets[i])\n",
    "    k = 0\n",
    "    for i in range(n):\n",
    "        for j in range(len(buckets[i])):\n",
    "            arr[k] = buckets[i][j]\n",
    "            k += 1\n",
    "    return arr"
   ]
  }
 ],
 "metadata": {
  "kernelspec": {
   "display_name": "Python 3",
   "language": "python",
   "name": "python3"
  },
  "language_info": {
   "codemirror_mode": {
    "name": "ipython",
    "version": 3
   },
   "file_extension": ".py",
   "mimetype": "text/x-python",
   "name": "python",
   "nbconvert_exporter": "python",
   "pygments_lexer": "ipython3",
   "version": "3.11.4"
  }
 },
 "nbformat": 4,
 "nbformat_minor": 2
}
