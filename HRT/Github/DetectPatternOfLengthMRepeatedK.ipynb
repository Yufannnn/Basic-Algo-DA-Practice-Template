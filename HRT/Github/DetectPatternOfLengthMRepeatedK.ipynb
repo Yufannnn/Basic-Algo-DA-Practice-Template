{
 "cells": [
  {
   "cell_type": "markdown",
   "metadata": {},
   "source": [
    "# Detect Pattern of Length M Repeated K or More Times\n",
    "\n",
    "**Solution Overview**:\n",
    "\n",
    "The problem requires finding a pattern of length `m` that repeats `k` or more times consecutively in the given array `arr`.\n",
    "\n",
    "**Algorithm Steps**:\n",
    "\n",
    "1. **Iterate Through Array**:\n",
    "   - Iterate through the array up to the point where there's enough room for the pattern to repeat `k` times consecutively without overlapping.\n",
    "\n",
    "2. **Check Patterns**:\n",
    "   - Extract a pattern of length `m` starting at each index of the array.\n",
    "   - Check if this pattern repeats `k` or more times consecutively in the array by comparing slices of the array.\n",
    "   - If a pattern is found that repeats `k` or more times, return True.\n",
    "\n",
    "3. **Return Result**:\n",
    "   - If no such pattern is found, return False.\n",
    "\n",
    "**Complexity Analysis**:\n",
    "\n",
    "- **Time Complexity**: The time complexity of this solution is O(n * m * k), where:\n",
    "  - `n` is the length of the array `arr`.\n",
    "  - `m` is the length of the pattern.\n",
    "  - `k` is the minimum number of repetitions required.\n",
    "- **Space Complexity**: The space complexity is O(1) as no extra space is used except for a few variables.\n",
    "\n",
    "**Conclusion**:\n",
    "\n",
    "The solution effectively detects a pattern of length `m` that repeats `k` or more times consecutively in the given array `arr`. It iterates through the array and checks for patterns at each index, adhering to the problem constraints and requirements.\n"
   ]
  },
  {
   "cell_type": "code",
   "execution_count": null,
   "metadata": {},
   "outputs": [],
   "source": [
    "class Solution:\n",
    "    def containsPattern(self, arr: List[int], m: int, k: int) -> bool:\n",
    "        # Iterate through the array up to the point where there's enough room for the pattern to repeat k times\n",
    "        for i in range(len(arr) - m * k + 1):\n",
    "            # Extract the pattern of length m starting at i\n",
    "            pattern = arr[i:i+m]\n",
    "            # Flag to check if the pattern repeats k times\n",
    "            match = True\n",
    "            # Check if the pattern repeats k times by comparing slices of the array\n",
    "            for j in range(1, k):\n",
    "                if pattern != arr[i+j*m:i+j*m+m]:\n",
    "                    match = False\n",
    "                    break\n",
    "            # If the pattern repeats k times, return True\n",
    "            if match:\n",
    "                return True\n",
    "        # If no pattern is found that repeats k times, return False\n",
    "        return False"
   ]
  }
 ],
 "metadata": {
  "language_info": {
   "name": "python"
  }
 },
 "nbformat": 4,
 "nbformat_minor": 2
}
