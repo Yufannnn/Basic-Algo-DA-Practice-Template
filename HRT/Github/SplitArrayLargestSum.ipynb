{
 "cells": [
  {
   "cell_type": "markdown",
   "metadata": {},
   "source": [
    "# Split Array Largest Sum\n",
    "\n",
    "**Problem Understanding**:\n",
    "\n",
    "Given an array `nums` and an integer `k`, the task is to divide `nums` into `k` contiguous subarrays so that the maximum sum of these subarrays is as small as possible. The challenge is to find this minimized largest sum.\n",
    "\n",
    "**Solution Strategy**:\n",
    "\n",
    "The strategy involves defining a search space for the possible solution and then using binary search within this space to find the minimum largest sum that can be achieved under the constraint of splitting the array into `k` subarrays.\n",
    "\n",
    "1. **Defining the Search Space**:\n",
    "   - The minimum possible value for the largest sum is the maximum value in `nums`, as every subarray must include at least one number from `nums`.\n",
    "   - The maximum possible value for the largest sum is the sum of all numbers in `nums`, which represents a scenario where all numbers are in a single subarray.\n",
    "   - This range `[max(nums), sum(nums)]` forms the search space for the binary search.\n",
    "\n",
    "2. **Binary Search**:\n",
    "   - The binary search is used to narrow down this search space to find the smallest possible largest sum. `left` is set to `max(nums)` and `right` is set to `sum(nums)`.\n",
    "   - At each step of the binary search, we calculate the midpoint `mid` and use it as a candidate for the maximum subarray sum to check its feasibility.\n",
    "\n",
    "3. **Feasibility Check (`feasible` function)**:\n",
    "   - For a given candidate `target`, the `feasible` function determines whether it's possible to split `nums` into `k` or fewer subarrays without any subarray sum exceeding `target`.\n",
    "   - It iterates through `nums`, summing up elements until adding another would exceed the `target`. At this point, it starts a new subarray. If the number of required subarrays exceeds `k`, the candidate is not feasible.\n",
    "\n",
    "4. **Adjusting the Search Space**:\n",
    "   - If a candidate `target` is feasible, it means we might be able to find an even smaller largest sum, so we move `right` to `mid`.\n",
    "   - If it's not feasible, we need to increase our candidate largest sum, so we move `left` to `mid + 1`.\n",
    "\n",
    "5. **Conclusion**:\n",
    "   - The search continues until `left` and `right` converge, at which point `left` will be the minimized largest sum that can be achieved.\n",
    "\n",
    "**Complexity Analysis**:\n",
    "\n",
    "- **Time Complexity**: O(n log S), where `n` is the length of `nums`, and `S` is the sum of all elements in `nums`. The binary search narrows down the range `[max(nums), sum(nums)]`, and for each candidate, the feasibility check runs in O(n).\n",
    "- **Space Complexity**: O(1), as the solution uses only constant extra space for variables and pointers, regardless of the input size.\n",
    "\n",
    "**Example Walkthrough**:\n",
    "\n",
    "Given `nums = [7,2,5,10,8]` and `k = 2`, the search space for the largest sum starts from 10 (max value in `nums`) to 32 (sum of `nums`). Through binary search and feasibility checks, it finds that 18 is the minimized largest sum possible by splitting into subarrays `[7,2,5]` and `[10,8]`."
   ]
  },
  {
   "cell_type": "code",
   "execution_count": 1,
   "metadata": {},
   "outputs": [],
   "source": [
    "class Solution:\n",
    "    def splitArray(self, nums, k):\n",
    "        # Define the binary search space\n",
    "        left, right = max(nums), sum(nums)\n",
    "\n",
    "        # Function to check if a target is feasible\n",
    "        def feasible(target):\n",
    "            count, current_sum = 1, 0\n",
    "            for num in nums:\n",
    "                current_sum += num\n",
    "                if current_sum > target:\n",
    "                    count += 1\n",
    "                    current_sum = num\n",
    "            return count <= k\n",
    "\n",
    "        # Binary search to find the minimum largest sum\n",
    "        while left < right:\n",
    "            mid = (left + right) // 2\n",
    "            if feasible(mid):\n",
    "                right = mid\n",
    "            else:\n",
    "                left = mid + 1\n",
    "        \n",
    "        return left"
   ]
  }
 ],
 "metadata": {
  "kernelspec": {
   "display_name": "Python 3",
   "language": "python",
   "name": "python3"
  },
  "language_info": {
   "codemirror_mode": {
    "name": "ipython",
    "version": 3
   },
   "file_extension": ".py",
   "mimetype": "text/x-python",
   "name": "python",
   "nbconvert_exporter": "python",
   "pygments_lexer": "ipython3",
   "version": "3.11.4"
  }
 },
 "nbformat": 4,
 "nbformat_minor": 2
}
