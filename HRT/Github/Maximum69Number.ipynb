{
 "cells": [
  {
   "cell_type": "markdown",
   "metadata": {},
   "source": [
    "**Solution Overview**:\n",
    "\n",
    "The problem requires finding the maximum number that can be obtained by changing at most one digit in the given positive integer `num`, where '6' can be changed to '9' and vice versa.\n",
    "\n",
    "**Algorithm Steps**:\n",
    "\n",
    "1. **Convert to List**:\n",
    "   - Convert the given integer `num` to a list of characters for easy manipulation.\n",
    "\n",
    "2. **Iterative Replacement**:\n",
    "   - Iterate through the list representation of `num`.\n",
    "   - If a '6' is found, replace it with '9' to obtain a larger number.\n",
    "   - Break the loop after the first replacement, as we only need to change one digit.\n",
    "\n",
    "3. **Convert Back**:\n",
    "   - Convert the modified list back to an integer.\n",
    "   - Return the resulting integer as the maximum number.\n",
    "\n",
    "**Complexity Analysis**:\n",
    "\n",
    "- **Time Complexity**: The time complexity of this solution is O(log(num)) as it depends on the number of digits in `num`.\n",
    "- **Space Complexity**: The space complexity is O(log(num)) as well, considering the space used to convert the integer to a list.\n",
    "\n",
    "**Conclusion**:\n",
    "\n",
    "The solution effectively finds the maximum number by changing at most one digit in the given positive integer `num`. It provides a simple and efficient approach to solving the problem, adhering to the problem constraints and requirements."
   ]
  },
  {
   "cell_type": "code",
   "execution_count": 1,
   "metadata": {},
   "outputs": [],
   "source": [
    "class Solution:\n",
    "    def maximum69Number (self, num: int) -> int:\n",
    "        # Convert the number to a list of characters for easy manipulation\n",
    "        num_list = list(str(num))\n",
    "        \n",
    "        # Iterate through the list and replace the first occurrence of '6' with '9'\n",
    "        for i in range(len(num_list)):\n",
    "            if num_list[i] == '6':\n",
    "                num_list[i] = '9'\n",
    "                break  # Stop after the first replacement\n",
    "        \n",
    "        # Convert the list back to integer and return\n",
    "        return int(''.join(num_list))"
   ]
  }
 ],
 "metadata": {
  "kernelspec": {
   "display_name": "Python 3",
   "language": "python",
   "name": "python3"
  },
  "language_info": {
   "codemirror_mode": {
    "name": "ipython",
    "version": 3
   },
   "file_extension": ".py",
   "mimetype": "text/x-python",
   "name": "python",
   "nbconvert_exporter": "python",
   "pygments_lexer": "ipython3",
   "version": "3.11.4"
  }
 },
 "nbformat": 4,
 "nbformat_minor": 2
}
