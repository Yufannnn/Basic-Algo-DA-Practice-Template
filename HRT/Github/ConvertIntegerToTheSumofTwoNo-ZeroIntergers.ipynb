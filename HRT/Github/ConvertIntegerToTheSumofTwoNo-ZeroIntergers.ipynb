{
 "cells": [
  {
   "cell_type": "markdown",
   "metadata": {},
   "source": [
    "**Solution Overview**:\n",
    "\n",
    "The problem aims to find two non-zero integers whose sum equals the given integer `n`. The solution uses a simple approach to iterate through possible pairs of integers until a pair is found where both numbers do not contain any zero digits.\n",
    "\n",
    "**Algorithm Steps**:\n",
    "\n",
    "1. **Helper Function**:\n",
    "   - Define a helper function `containsZero(num)` to check if a given number contains any zero digit. This function converts the number to a string and checks if '0' is present in its decimal representation.\n",
    "\n",
    "2. **Initialization**:\n",
    "   - Initialize two integers `a` and `b` with values `1` and `n - 1`, respectively. These integers represent the two non-zero numbers whose sum equals `n`.\n",
    "\n",
    "3. **Iterative Search**:\n",
    "   - Iterate in a loop until both `a` and `b` do not contain any zero digits.\n",
    "   - Inside the loop, increment `a` and decrement `b` by `1` in each iteration.\n",
    "\n",
    "4. **Result**:\n",
    "   - Once both `a` and `b` are found such that they do not contain any zero digits, return them as a list `[a, b]`.\n",
    "\n",
    "**Complexity Analysis**:\n",
    "\n",
    "- **Time Complexity**: The time complexity of this solution depends on the number `n`. However, since the loop iterates through a range of numbers proportional to `n`, the time complexity is O(n).\n",
    "- **Space Complexity**: The space complexity is O(1) as the solution uses a constant amount of extra space for variables, regardless of the input size.\n",
    "\n",
    "**Conclusion**:\n",
    "\n",
    "The solution effectively finds two non-zero integers whose sum equals the given integer `n`. It provides a straightforward and efficient approach to solving the problem, adhering to the problem constraints and requirements."
   ]
  },
  {
   "cell_type": "code",
   "execution_count": 2,
   "metadata": {},
   "outputs": [],
   "source": [
    "from typing import List\n",
    "\n",
    "class Solution:\n",
    "    def getNoZeroIntegers(self, n: int) -> List[int]:\n",
    "        # Function to check if the number contains zero\n",
    "        def containsZero(num):\n",
    "            return '0' in str(num)\n",
    "        \n",
    "        # Start with a = 1 and b = n - 1\n",
    "        a, b = 1, n - 1\n",
    "        \n",
    "        # Iterate until both a and b do not contain any zero\n",
    "        while containsZero(a) or containsZero(b):\n",
    "            a += 1\n",
    "            b -= 1\n",
    "        \n",
    "        return [a, b]"
   ]
  }
 ],
 "metadata": {
  "kernelspec": {
   "display_name": "Python 3",
   "language": "python",
   "name": "python3"
  },
  "language_info": {
   "codemirror_mode": {
    "name": "ipython",
    "version": 3
   },
   "file_extension": ".py",
   "mimetype": "text/x-python",
   "name": "python",
   "nbconvert_exporter": "python",
   "pygments_lexer": "ipython3",
   "version": "3.11.4"
  }
 },
 "nbformat": 4,
 "nbformat_minor": 2
}
