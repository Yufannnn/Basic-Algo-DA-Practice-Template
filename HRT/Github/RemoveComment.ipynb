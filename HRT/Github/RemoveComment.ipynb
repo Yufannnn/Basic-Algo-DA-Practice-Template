{
 "cells": [
  {
   "cell_type": "markdown",
   "metadata": {},
   "source": [
    "**Solution Overview:**\n",
    "\n",
    "1. **Concatenate Lines**: The solution first joins all lines of the source code with a newline character, converting the array of strings into a single string. This simplification allows the use of regex over the entire code as a single string, facilitating the identification of multiline block comments.\n",
    "\n",
    "2. **Define Regex Patterns**:\n",
    "   - **Line Comments**: Identified by the pattern `\\/\\/.*`, which matches the '//' symbol followed by any characters until the end of the line.\n",
    "   - **Closed Block Comments**: Identified by the pattern `(?s:\\/\\*.*?\\*\\/)`, where `(?s:...)` enables 'dotall' mode, allowing the dot `.` to match newline characters as well. `.*?` is a non-greedy match for any characters until the next `*/`.\n",
    "   - **Open Block Comments**: Identified by the pattern `\\/\\*.*`, which matches block comments that start but do not close within a single line. This pattern is used to handle comments that start at the end of a line and continue on the next line(s).\n",
    "\n",
    "3. **Combine Regex Patterns and Remove Comments**:\n",
    "   - The patterns are combined into a single regex expression with the `|` operator, which acts as a logical OR. The order of patterns is crucial; it ensures that the regex engine matches them in the correct priority.\n",
    "   - The `re.sub()` function is used to replace occurrences of these patterns with an empty string, effectively removing the comments.\n",
    "\n",
    "4. **Split and Filter**: \n",
    "   - After removal, the single string is split back into lines using `split('\\n')`. \n",
    "   - Empty lines are filtered out using `filter(None, ...)`, as the problem statement requires that no empty lines should be output.\n",
    "\n",
    "**Complexity Analysis**:\n",
    "\n",
    "- **Time Complexity**: The primary operation is the regex substitution, which can be considered O(n) for `n` characters in the source code, although actual performance can vary depending on the complexity of the regex engine's pattern matching.\n",
    "- **Space Complexity**: O(n) for storing the concatenated string and the intermediate results.\n",
    "\n",
    "**Example Walkthrough**:\n",
    "\n",
    "Consider the example `source = [\"/*Test program */\", \"int main()\", \"{ \", \"  // variable declaration \", \"int a, b, c;\", \"/* This is a test\", \"   multiline  \", \"   comment for \", \"   testing */\", \"a = b + c;\", \"}\"]`. \n",
    "\n",
    "1. After concatenation, we have a single string representation of the source code with embedded newline characters.\n",
    "2. The regex patterns match and remove the block comment that starts with `/*Test program */` and ends with `testing */`, as well as the line comment `// variable declaration`.\n",
    "3. The resulting string, when split and filtered, yields the lines of code without the comments: `[\"int main()\",\"{ \",\"  \",\"int a, b, c;\",\"a = b + c;\",\"}\"]`.\n",
    "\n",
    "**Conclusion**:\n",
    "\n",
    "This solution effectively utilizes regex to address the challenge of removing comments from C++ source code. By treating the source code as a single string, it simplifies the pattern matching process, especially for multiline block comments, making the solution both elegant and efficient."
   ]
  },
  {
   "cell_type": "code",
   "execution_count": 3,
   "metadata": {},
   "outputs": [],
   "source": [
    "import re\n",
    "from typing import List\n",
    "\n",
    "class Solution:\n",
    "    def removeComments(self, source: List[str]) -> List[str]:\n",
    "        s = '\\n'.join(source)\n",
    "        regex_single = r\"\\/\\/.*\"\n",
    "        regex_block_closed = r\"(?s:\\/\\*.*?\\*\\/)\"\n",
    "        regex_block_not_closed = r\"\\/\\*.*\"    \n",
    "        regex = '|'.join([regex_single, regex_block_closed, regex_block_not_closed])  # order matters\n",
    "        s = re.sub(regex, '', s)\n",
    "        return list(filter(None, s.split('\\n')))"
   ]
  }
 ],
 "metadata": {
  "kernelspec": {
   "display_name": "Python 3",
   "language": "python",
   "name": "python3"
  },
  "language_info": {
   "codemirror_mode": {
    "name": "ipython",
    "version": 3
   },
   "file_extension": ".py",
   "mimetype": "text/x-python",
   "name": "python",
   "nbconvert_exporter": "python",
   "pygments_lexer": "ipython3",
   "version": "3.11.4"
  }
 },
 "nbformat": 4,
 "nbformat_minor": 2
}
