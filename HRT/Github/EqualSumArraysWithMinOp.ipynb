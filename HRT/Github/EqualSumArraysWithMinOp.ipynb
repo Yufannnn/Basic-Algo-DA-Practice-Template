{
 "cells": [
  {
   "cell_type": "markdown",
   "metadata": {},
   "source": [
    "# Equal Sum Arrays With Minimum Operations\n",
    "\n",
    "**Solution Explanation**:\n",
    "\n",
    "1. **Initial Sum Calculation**:\n",
    "   - The method begins by calculating the sums of `nums1` and `nums2`. If the sums are already equal, it returns `0` as no operations are needed.\n",
    "\n",
    "2. **Array Swap for Simplification**:\n",
    "   - If `sum1` is greater than `sum2`, the arrays and their sums are swapped. This step simplifies the logic that follows by ensuring that `nums1` is always the array with the smaller sum, focusing on increasing its sum or decreasing the sum of `nums2` to achieve equality.\n",
    "\n",
    "3. **Potential Changes Calculation**:\n",
    "   - The code calculates the potential changes for each number in both arrays to contribute towards equalizing the sums. For `nums1`, the change is how much each number can increase (`6 - x`), and for `nums2`, the change is how much each number can decrease (`x - 1`). These changes are then sorted in descending order to prioritize the changes that have the largest impact.\n",
    "\n",
    "4. **Applying Changes**:\n",
    "   - The method iterates through the sorted list of changes, applying each change to reduce the difference between `sum2` and `sum1`. With each operation, the difference `diff` is reduced by the change value, and the operation counter `ops` is incremented.\n",
    "   - If at any point the difference `diff` becomes less than or equal to `0`, the method returns the current count of operations, `ops`, as it signifies that the sums have been equalized.\n",
    "\n",
    "5. **Return Result**:\n",
    "   - If the method iterates through all possible changes without reducing the difference to `0` or less, it concludes that it is not possible to equalize the sums with the available operations and returns `-1`.\n",
    "\n",
    "**Complexity Analysis**:\n",
    "\n",
    "- **Time Complexity**: O(N log N), where N is the total number of elements in both `nums1` and `nums2`. The sorting of potential changes dictates the time complexity.\n",
    "- **Space Complexity**: O(N), due to the space required for storing the list of potential changes.\n",
    "\n",
    "**Example Walkthrough**:\n",
    "\n",
    "Consider the example `nums1 = [1,2,3,4,5,6]` and `nums2 = [1,1,2,2,2,2]`. After calculating initial sums and potential changes, the solution sorts the potential changes: `[5, 4, 3, 2, 1, 0, 1, 1, 1, 1]`. It then applies the three largest changes (`5`, `4`, and `3`) to equalize the sums, requiring `3` operations."
   ]
  },
  {
   "cell_type": "code",
   "execution_count": null,
   "metadata": {},
   "outputs": [],
   "source": [
    "from typing import List\n",
    "\n",
    "class Solution:\n",
    "    def minOperations(self, nums1: List[int], nums2: List[int]) -> int:\n",
    "        sum1, sum2 = sum(nums1), sum(nums2)\n",
    "        # If initial sums are equal, no operations are needed\n",
    "        if sum1 == sum2:\n",
    "            return 0\n",
    "        \n",
    "        # Ensure nums1 is the array with the smaller sum\n",
    "        if sum1 > sum2:\n",
    "            nums1, nums2 = nums2, nums1\n",
    "            sum1, sum2 = sum2, sum1\n",
    "            \n",
    "        # Calculate potential changes for each number in both arrays\n",
    "        changes = sorted([6 - x for x in nums1] + [x - 1 for x in nums2], reverse=True)\n",
    "        \n",
    "        ops = 0  # Operations counter\n",
    "        diff = sum2 - sum1  # Difference needed to equalize sums\n",
    "        \n",
    "        for change in changes:\n",
    "            diff -= change\n",
    "            ops += 1\n",
    "            if diff <= 0:\n",
    "                return ops\n",
    "        \n",
    "        # If we've gone through all changes and still haven't equalized the sums\n",
    "        return -1"
   ]
  }
 ],
 "metadata": {
  "language_info": {
   "name": "python"
  }
 },
 "nbformat": 4,
 "nbformat_minor": 2
}
