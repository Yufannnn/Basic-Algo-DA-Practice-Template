{
 "cells": [
  {
   "cell_type": "markdown",
   "metadata": {},
   "source": [
    "# Add Binary\n",
    "\n",
    "\"In the `addBinary` method, we are tasked with adding two binary strings `a` and `b`, treating these strings as though they represent binary numbers. The goal is to compute their sum and return it as a new binary string. The approach taken here closely follows the traditional method of adding numbers bit by bit from right to left, also known as 'bitwise addition', including the handling of carry bits that result from summing two '1' bits.\n",
    "\n",
    "**Step-by-Step Explanation:**\n",
    "\n",
    "1. **Initialization**:\n",
    "   - We start by initializing pointers `index_a` and `index_b` to the last characters of the strings `a` and `b` respectively, since binary addition (like decimal addition) proceeds from right to left.\n",
    "   - A variable `carry` is initialized to `0` to keep track of any carry-over in the addition process.\n",
    "   - An empty list `result` is initialized to collect the binary digits of the sum.\n",
    "\n",
    "2. **Loop Through Strings**:\n",
    "   - We then enter a loop that continues as long as there is at least one character left in either `a` or `b`, or there is a carry to process.\n",
    "   - Inside the loop, we initialize a variable `sum` with the value of `carry`.\n",
    "\n",
    "3. **Bit Addition**:\n",
    "   - For each string, if the current index `index_a` or `index_b` is valid (i.e., not less than 0), we convert the character at that index to an integer (0 or 1) and add it to `sum`.\n",
    "   - We then decrement `index_a` and `index_b` to move to the next bit to the left.\n",
    "\n",
    "4. **Handling Carry and Result**:\n",
    "   - After processing both bits and any existing carry, we append the modulo of `sum` by 2 (`sum % 2`) to the `result` list. This operation effectively adds the lowest bit of the `sum` to the result since `sum` can only be 0, 1, 2, or 3.\n",
    "   - The carry for the next addition is obtained by integer-dividing `sum` by 2 (`sum // 2`). If `sum` is 2 or 3, `carry` becomes 1, indicating that there is a carry into the next higher bit.\n",
    "\n",
    "5. **Finalizing the Result**:\n",
    "   - Once the loop completes, we have processed all bits of `a` and `b`, along with any final carry. However, the `result` list contains the binary digits in reverse order. Therefore, we reverse the list and join its elements to form the final binary string representation of the sum.\n",
    "\n",
    "6. **Returning the Sum**:\n",
    "   - The final binary string is then returned as the result of the addition.\n",
    "\n",
    "This approach ensures that the binary addition correctly handles varying lengths of input strings, carry bits, and constructs the result in a manner that mirrors manual binary addition.\"\n"
   ]
  },
  {
   "cell_type": "code",
   "execution_count": 1,
   "metadata": {},
   "outputs": [],
   "source": [
    "class Solution:\n",
    "    def addBinary(self, a: str, b: str) -> str:\n",
    "        # Initialize the index pointers for a and b, carry and the result string\n",
    "        index_a, index_b = len(a) - 1, len(b) - 1\n",
    "        carry = 0\n",
    "        result = []\n",
    "        \n",
    "        # Loop through both strings from right to left\n",
    "        while index_a >= 0 or index_b >= 0 or carry:\n",
    "            # Convert current bits to integers and add them with carry\n",
    "            sum = carry\n",
    "            if index_a >= 0:\n",
    "                sum += int(a[index_a])\n",
    "                index_a -= 1\n",
    "            if index_b >= 0:\n",
    "                sum += int(b[index_b])\n",
    "                index_b -= 1\n",
    "            \n",
    "            # Append the sum mod 2 to the result and update carry\n",
    "            result.append(str(sum % 2))\n",
    "            carry = sum // 2\n",
    "        \n",
    "        # Reverse the result and join to form the final binary string\n",
    "        return ''.join(reversed(result))\n"
   ]
  },
  {
   "cell_type": "markdown",
   "metadata": {},
   "source": []
  }
 ],
 "metadata": {
  "kernelspec": {
   "display_name": "Python 3",
   "language": "python",
   "name": "python3"
  },
  "language_info": {
   "codemirror_mode": {
    "name": "ipython",
    "version": 3
   },
   "file_extension": ".py",
   "mimetype": "text/x-python",
   "name": "python",
   "nbconvert_exporter": "python",
   "pygments_lexer": "ipython3",
   "version": "3.11.4"
  }
 },
 "nbformat": 4,
 "nbformat_minor": 2
}
