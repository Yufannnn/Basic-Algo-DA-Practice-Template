{
 "cells": [
  {
   "cell_type": "markdown",
   "metadata": {},
   "source": [
    "Given the problem of sorting a nearly sorted array, where each element is at most K positions away from its sorted position, a very efficient solution leverages the min heap data structure. The key insight here is understanding that within such a nearly sorted array, if we look at any slice of K+1 elements, the next element to be placed in its correct position in the sorted array is always present within this slice.\n",
    "\n",
    "Here's how we tackle the problem:\n",
    "\n",
    "1. **Create a Min Heap of Size K+1**: We initiate by building a min heap with the first K+1 elements. This step is crucial because, given the problem's constraints, the smallest element that needs to be positioned next in the sorted array is guaranteed to be within these first K+1 elements. This guarantee comes from the fact that elements are no more than K positions away from where they should be in the sorted array.\n",
    "\n",
    "2. **Sort with the Heap**: We then enter a loop where we continuously remove the top element from the heap, which is the smallest among the current subset, and place it in the sorted part of the array. Simultaneously, we add the next element from the unsorted part of the array to the heap. This process is efficient because, due to the nature of the nearly sorted array, the min heap always contains the next element to be placed in order.\n",
    "\n",
    "3. **Finalize the Sorted Array**: After iterating through the array, we empty the remaining elements in the heap, which are already in order due to the heap's properties, and place them in their correct positions in the array.\n",
    "\n",
    "This approach is not just intuitive but also highly efficient with a time complexity of O(N log K), primarily because we're only maintaining a heap of size K+1 and each heap operation (insertion and deletion) takes O(log K) time. Moreover, the space complexity is O(K) for the heap.\n",
    "\n",
    "**Critical Insight**: The guarantee that the smallest element required next in the sorted order is always within the first K elements of our heap is what makes this approach particularly powerful. This ensures that at any point, we're only dealing with a relevant subset of the array, thus optimizing our sorting process for the given constraints.\""
   ]
  },
  {
   "cell_type": "code",
   "execution_count": 1,
   "metadata": {},
   "outputs": [
    {
     "name": "stdout",
     "output_type": "stream",
     "text": [
      "Original array: [2, 6, 3, 12, 56, 8]\n",
      "Sorted array:  [2, 3, 6, 8, 12, 56]\n"
     ]
    }
   ],
   "source": [
    "from heapq import heappop, heappush, heapify\n",
    "\n",
    "def sort_nearly_sorted_array(arr, k):\n",
    "    \"\"\"\n",
    "    Sorts a nearly sorted (or K sorted) array.\n",
    "    \n",
    "    :param arr: List of integers representing the nearly sorted array\n",
    "    :param k: An integer indicating that each element of the array is no more than k positions away from its sorted position\n",
    "    :return: The sorted array\n",
    "    \"\"\"\n",
    "    # Initial min heap with the first k+1 elements\n",
    "    heap = arr[:k + 1]\n",
    "    heapify(heap)\n",
    "\n",
    "    # Index for the next element in the sorted part\n",
    "    target_index = 0\n",
    "\n",
    "    # Process elements from k+1 to end and adjust the heap\n",
    "    for i in range(k + 1, len(arr)):\n",
    "        # Replace the top of the heap with the next element in the array\n",
    "        arr[target_index] = heappop(heap)\n",
    "        heappush(heap, arr[i])\n",
    "        target_index += 1\n",
    "\n",
    "    # Place remaining elements from the heap to the array\n",
    "    while heap:\n",
    "        arr[target_index] = heappop(heap)\n",
    "        target_index += 1\n",
    "\n",
    "    return arr\n",
    "\n",
    "# Example usage\n",
    "k = 3\n",
    "arr = [2, 6, 3, 12, 56, 8]\n",
    "print(\"Original array:\", arr)\n",
    "sorted_arr = sort_nearly_sorted_array(arr, k)\n",
    "print(\"Sorted array: \", sorted_arr)\n"
   ]
  }
 ],
 "metadata": {
  "kernelspec": {
   "display_name": "Python 3",
   "language": "python",
   "name": "python3"
  },
  "language_info": {
   "codemirror_mode": {
    "name": "ipython",
    "version": 3
   },
   "file_extension": ".py",
   "mimetype": "text/x-python",
   "name": "python",
   "nbconvert_exporter": "python",
   "pygments_lexer": "ipython3",
   "version": "3.11.4"
  }
 },
 "nbformat": 4,
 "nbformat_minor": 2
}
